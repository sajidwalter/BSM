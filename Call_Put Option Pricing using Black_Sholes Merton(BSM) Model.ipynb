{
 "cells": [
  {
   "cell_type": "markdown",
   "id": "d171533e",
   "metadata": {},
   "source": [
    "# How To Price Call/Put Options in Python Using Real World Data"
   ]
  },
  {
   "cell_type": "markdown",
   "id": "c948dcb8",
   "metadata": {},
   "source": [
    "The Black-Scholes Merton Model (BSM) is a mathematical model used to value option contracts, based on European-style options. It assumes a normal stock price distribution, no transaction costs, no cash flow, no arbitrage opportunities, and constant risk-free rate. The model suggests creating a risk-free portfolio with both stocks and options, requiring continuous rebalancing.\n",
    "\n",
    "𝐶=𝑆𝑡𝑁(𝑑1)−𝐾𝑒−𝑟𝑡𝑁(𝑑2)\n",
    "Where d1 and d2 are calculated below:\n",
    "\n",
    "𝑑1=ln𝑆𝑡/𝐾+(𝑟+𝜎2𝑢2)/𝑡𝜎𝑠𝑡√\n",
    "and:\n",
    "\n",
    "𝑑2=𝑑1−𝜎𝑠𝑡√\n",
    "Where:\n",
    "𝐶=Call option price\n",
    "𝑆= Current stock (or other underlying) price\n",
    "𝐾=Strike price\n",
    "𝑟=Risk-free interest rate\n",
    "𝑡=time to maturity \n",
    "𝑁=A normal distribution\n",
    "\n",
    "Today's notebook outlines a process to calculate the call price of an option using the Black-Scholes model parameters, utilizing Python libraries Yfinance and Quandl, and importing necessary libraries."
   ]
  },
  {
   "cell_type": "code",
   "execution_count": null,
   "id": "6ad6f2b7",
   "metadata": {},
   "outputs": [],
   "source": [
    "import yfinance as yf\n",
    "from datetime import datetime\n",
    "import stockquotes\n",
    "import numpy as np\n",
    "import matplotlib.pyplot as plt\n",
    "import pandas as pd"
   ]
  },
  {
   "cell_type": "code",
   "execution_count": null,
   "id": "07235677",
   "metadata": {},
   "outputs": [],
   "source": [
    "def fetch_options_data(ticker_symbol):\n",
    "    ticker = yf.Ticker(ticker_symbol)\n",
    "    options_dates = ticker.options\n",
    "    # We'll use the nearest expiry date for our analysis\n",
    "    options_data = ticker.option_chain(options_dates[1])\n",
    "    return options_data.calls, options_data.puts\n",
    "\n",
    "# Example usage:\n",
    "jpm_calls, jpm_puts = fetch_options_data('JPM')"
   ]
  },
  {
   "cell_type": "code",
   "execution_count": null,
   "id": "30d856ae",
   "metadata": {},
   "outputs": [],
   "source": [
    "jpm_calls"
   ]
  },
  {
   "cell_type": "code",
   "execution_count": null,
   "id": "35cab8e5",
   "metadata": {},
   "outputs": [],
   "source": [
    "## Downloading historical price data for JP Morgan\n",
    "jpm_stock_data = yf.download(\"JPM\", start=\"2006-01-01\", end=\"2024-02-24\")"
   ]
  },
  {
   "cell_type": "code",
   "execution_count": null,
   "id": "e4cdfed1",
   "metadata": {},
   "outputs": [],
   "source": [
    "plt.figure(figsize=(10, 5))\n",
    "plt.plot(jpm_stock_data['Close'])\n",
    "plt.title('JPM Historical Stock Price')\n",
    "plt.xlabel('Date')\n",
    "plt.ylabel('Stock Price (USD)')\n",
    "plt.grid(True)"
   ]
  },
  {
   "cell_type": "markdown",
   "id": "64ae745b",
   "metadata": {},
   "source": [
    "# The plot shows that the volatility of JP-Morgan stock is higher, So lets calculate the Historical Volatility for JP-Morgan Stock"
   ]
  },
  {
   "cell_type": "code",
   "execution_count": null,
   "id": "7070fd47",
   "metadata": {},
   "outputs": [],
   "source": [
    "def calculate_historical_volatility(stock_data, window=252):\n",
    "    log_returns = np.log(stock_data['Close'] / stock_data['Close'].shift(1))\n",
    "    volatility = np.sqrt(window) * log_returns.std()\n",
    "    return volatility\n",
    "\n",
    "jpm_volatility = calculate_historical_volatility(jpm_stock_data)\n",
    "print(f\"JPM Historical Volatility: {jpm_volatility}\")"
   ]
  },
  {
   "cell_type": "code",
   "execution_count": null,
   "id": "d99aca48",
   "metadata": {},
   "outputs": [],
   "source": [
    "import scipy.stats as si\n",
    "\n",
    "class BlackScholesModel:\n",
    "    def __init__(self, S, K, T, r, sigma):\n",
    "        self.S = S        # Underlying asset price\n",
    "        self.K = K        # Option strike price\n",
    "        self.T = T        # Time to expiration in years\n",
    "        self.r = r        # Risk-free interest rate\n",
    "        self.sigma = sigma  # Volatility of the underlying asset\n",
    "\n",
    "    def d1(self):\n",
    "        return (np.log(self.S / self.K) + (self.r + 0.5 * self.sigma ** 2) * self.T) / (self.sigma * np.sqrt(self.T))\n",
    "    \n",
    "    def d2(self):\n",
    "        return self.d1() - self.sigma * np.sqrt(self.T)\n",
    "    \n",
    "    def call_option_price(self):\n",
    "        return (self.S * si.norm.cdf(self.d1(), 0.0, 1.0) - self.K * np.exp(-self.r * self.T) * si.norm.cdf(self.d2(), 0.0, 1.0))\n",
    "    \n",
    "    def put_option_price(self):\n",
    "        return (self.K * np.exp(-self.r * self.T) * si.norm.cdf(-self.d2(), 0.0, 1.0) - self.S * si.norm.cdf(-self.d1(), 0.0, 1.0))\n",
    "\n",
    "# Example usage:\n",
    "bsm = BlackScholesModel(S=120, K=100, T=1, r=0.05, sigma=0.38)\n",
    "print(f\"Call Option Price: {bsm.call_option_price()}\")\n",
    "print(f\"Put Option Price: {bsm.put_option_price()}\")"
   ]
  },
  {
   "cell_type": "markdown",
   "id": "c71c7640",
   "metadata": {},
   "source": [
    "# Conclusion "
   ]
  },
  {
   "cell_type": "markdown",
   "id": "7a15ebd1",
   "metadata": {},
   "source": [
    "We have the Call and Put prices given by BSM Model using S=120, K=100, T=1, r=0.05, sigma=0.38(Historical Volatility \n",
    "Call Option Price: 31.53394265336798\n",
    "Put Option Price: 6.656885103439382"
   ]
  },
  {
   "cell_type": "code",
   "execution_count": null,
   "id": "2cb94a28",
   "metadata": {},
   "outputs": [],
   "source": []
  }
 ],
 "metadata": {
  "kernelspec": {
   "display_name": "Python 3 (ipykernel)",
   "language": "python",
   "name": "python3"
  },
  "language_info": {
   "codemirror_mode": {
    "name": "ipython",
    "version": 3
   },
   "file_extension": ".py",
   "mimetype": "text/x-python",
   "name": "python",
   "nbconvert_exporter": "python",
   "pygments_lexer": "ipython3",
   "version": "3.9.12"
  }
 },
 "nbformat": 4,
 "nbformat_minor": 5
}
